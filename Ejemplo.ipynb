{
  "nbformat": 4,
  "nbformat_minor": 0,
  "metadata": {
    "colab": {
      "provenance": [],
      "authorship_tag": "ABX9TyMYtyvTC0d3oWZ+7IpYK7aq",
      "include_colab_link": true
    },
    "kernelspec": {
      "name": "ir",
      "display_name": "R"
    },
    "language_info": {
      "name": "R"
    }
  },
  "cells": [
    {
      "cell_type": "markdown",
      "metadata": {
        "id": "view-in-github",
        "colab_type": "text"
      },
      "source": [
        "<a href=\"https://colab.research.google.com/github/Gera-Gal/bedu_r_test/blob/main/Ejemplo.ipynb\" target=\"_parent\"><img src=\"https://colab.research.google.com/assets/colab-badge.svg\" alt=\"Open In Colab\"/></a>"
      ]
    },
    {
      "cell_type": "code",
      "execution_count": 1,
      "metadata": {
        "id": "Q1d2IpQEYlIe"
      },
      "outputs": [],
      "source": [
        "variable <- \"hola mundo\""
      ]
    },
    {
      "cell_type": "code",
      "source": [
        "variable"
      ],
      "metadata": {
        "colab": {
          "base_uri": "https://localhost:8080/",
          "height": 34
        },
        "id": "SfXvmJKgYvXi",
        "outputId": "c2e8c22d-e976-4216-e262-63fb9ca49aa2"
      },
      "execution_count": 2,
      "outputs": [
        {
          "output_type": "display_data",
          "data": {
            "text/html": [
              "'hola mundo'"
            ],
            "text/markdown": "'hola mundo'",
            "text/latex": "'hola mundo'",
            "text/plain": [
              "[1] \"hola mundo\""
            ]
          },
          "metadata": {}
        }
      ]
    }
  ]
}